{
 "cells": [
  {
   "cell_type": "code",
   "outputs": [],
   "source": [
    "import json\n",
    "\n",
    "# Load JSON file\n",
    "with open(\"rooms.json\", \"r\") as file:\n",
    "    data = json.load(file)\n"
   ],
   "metadata": {
    "collapsed": false,
    "ExecuteTime": {
     "end_time": "2024-09-18T07:37:04.620624700Z",
     "start_time": "2024-09-18T07:37:04.611314800Z"
    }
   },
   "id": "d0d31c3f5ce52212",
   "execution_count": 13
  },
  {
   "cell_type": "code",
   "outputs": [],
   "source": [
    "# Extract relevant data from the JSON\n",
    "rooms = data[\"assignment_results\"][0][\"shown_price\"]\n",
    "number_of_guests = data[\"assignment_results\"][0][\"number_of_guests\"]\n",
    "net_prices = data[\"assignment_results\"][0][\"net_price\"]\n",
    "taxes = json.loads(data[\"assignment_results\"][0][\"ext_data\"][\"taxes\"])\n",
    "\n",
    "# Variables to hold the results\n",
    "cheapest_price = None\n",
    "cheapest_room = \"\"\n",
    "total_price_per_room = {}\n",
    "\n",
    "# Iterate through room prices to find the cheapest\n",
    "for room, price in rooms.items():\n",
    "    price = float(price)\n",
    "    if cheapest_price is None or price < cheapest_price:\n",
    "        cheapest_price = price\n",
    "        cheapest_room = room\n"
   ],
   "metadata": {
    "collapsed": false,
    "ExecuteTime": {
     "end_time": "2024-09-18T07:37:06.385723800Z",
     "start_time": "2024-09-18T07:37:06.381696Z"
    }
   },
   "id": "dfcd750c7c5d013e",
   "execution_count": 14
  },
  {
   "cell_type": "code",
   "outputs": [],
   "source": [
    "# Calculate total price (Net price + Taxes) for each room and room type\n",
    "for room, net_price in net_prices.items():\n",
    "    net_price = float(net_price)\n",
    "    total_taxes = sum(map(float, taxes.values()))\n",
    "    total_price = net_price + total_taxes\n",
    "    total_price_per_room[room] = total_price\n"
   ],
   "metadata": {
    "collapsed": false,
    "ExecuteTime": {
     "end_time": "2024-09-18T07:37:08.598349800Z",
     "start_time": "2024-09-18T07:37:08.593492500Z"
    }
   },
   "id": "57ddce29dd88ab5d",
   "execution_count": 15
  },
  {
   "cell_type": "code",
   "outputs": [
    {
     "name": "stdout",
     "output_type": "stream",
     "text": [
      "Cheapest Room: King Studio Suite - Non Smoking\n",
      "Cheapest Price: 90.0 USD\n",
      "Number of Guests: 4\n",
      "\n",
      "Total Prices (Net price + Taxes) for all rooms:\n",
      "King Studio Suite - Hearing Accessible/Non-Smoking: 131.76 USD\n",
      "King Studio Suite - Non Smoking: 108.71000000000001 USD\n",
      "King Room - Mobility/Hearing Accessible - Non-Smoking: 133.76 USD\n",
      "Queen Suite with Two Queen Beds - Non-Smoking: 130.76 USD\n"
     ]
    }
   ],
   "source": [
    "# Save the results to a file\n",
    "with open(\"room_output.txt\", \"w\") as f:\n",
    "    # Write the cheapest room and details\n",
    "    f.write(f\"Cheapest Room: {cheapest_room}\\n\")\n",
    "    f.write(f\"Cheapest Price: {cheapest_price} USD\\n\")\n",
    "    f.write(f\"Number of Guests: {number_of_guests}\\n\\n\")\n",
    "\n",
    "    # Write total price for each room\n",
    "    f.write(\"Total Prices (Net price + Taxes) for all rooms:\\n\")\n",
    "    for room, total_price in total_price_per_room.items():\n",
    "        f.write(f\"{room}: {total_price} USD\\n\")\n",
    "\n",
    "# Output the result to console for confirmation\n",
    "print(f\"Cheapest Room: {cheapest_room}\")\n",
    "print(f\"Cheapest Price: {cheapest_price} USD\")\n",
    "print(f\"Number of Guests: {number_of_guests}\")\n",
    "print(\"\\nTotal Prices (Net price + Taxes) for all rooms:\")\n",
    "for room, total_price in total_price_per_room.items():\n",
    "    print(f\"{room}: {total_price} USD\")\n"
   ],
   "metadata": {
    "collapsed": false,
    "ExecuteTime": {
     "end_time": "2024-09-18T07:37:11.987408500Z",
     "start_time": "2024-09-18T07:37:11.981515800Z"
    }
   },
   "id": "d9f0192c7dc5f0ae",
   "execution_count": 16
  }
 ],
 "metadata": {
  "kernelspec": {
   "display_name": "Python 3",
   "language": "python",
   "name": "python3"
  },
  "language_info": {
   "codemirror_mode": {
    "name": "ipython",
    "version": 2
   },
   "file_extension": ".py",
   "mimetype": "text/x-python",
   "name": "python",
   "nbconvert_exporter": "python",
   "pygments_lexer": "ipython2",
   "version": "2.7.6"
  }
 },
 "nbformat": 4,
 "nbformat_minor": 5
}
